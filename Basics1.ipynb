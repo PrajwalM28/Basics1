{
 "cells": [
  {
   "cell_type": "markdown",
   "id": "012e929d-d615-405c-81d9-e59534a43098",
   "metadata": {},
   "source": [
    "# Q1."
   ]
  },
  {
   "cell_type": "code",
   "execution_count": 2,
   "id": "c3413bcb-3c75-44e6-a898-6b2012d19340",
   "metadata": {},
   "outputs": [],
   "source": [
    "str = 'hello'\n",
    "lst = [1,2,3,4,5]\n",
    "f = 0.35\n",
    "t = (2,3,4,5)"
   ]
  },
  {
   "cell_type": "markdown",
   "id": "f6bfd30c-dbbc-4d07-a0e0-8a2dc1901f88",
   "metadata": {},
   "source": [
    "# Q2."
   ]
  },
  {
   "cell_type": "markdown",
   "id": "95ce04eb-1570-490a-9548-5aa6af68ebec",
   "metadata": {},
   "source": [
    "i = string\n",
    "ii = string\n",
    "iii  = list\n",
    "iv = int"
   ]
  },
  {
   "cell_type": "markdown",
   "id": "b656bed7-dc5d-484e-be4f-5fa91ce3d331",
   "metadata": {},
   "source": [
    " # Q3."
   ]
  },
  {
   "cell_type": "markdown",
   "id": "b46406ca-1eef-4ca0-86f2-174f5d1ef8db",
   "metadata": {},
   "source": [
    "i    = operator performs division on two numbers\n",
    "ii   = returns the remainder of the division \n",
    "iii  = returns the quotient of the division\n",
    "iv   = raised the power of the operand"
   ]
  },
  {
   "cell_type": "code",
   "execution_count": 10,
   "id": "ed3774b7-0ec4-4f1a-8b6e-3dcb90f67f90",
   "metadata": {},
   "outputs": [
    {
     "data": {
      "text/plain": [
       "3.3333333333333335"
      ]
     },
     "execution_count": 10,
     "metadata": {},
     "output_type": "execute_result"
    }
   ],
   "source": [
    "r = 10/3\n",
    "r"
   ]
  },
  {
   "cell_type": "code",
   "execution_count": 11,
   "id": "c6c73c1e-171b-4eb7-b286-9bbd489f4848",
   "metadata": {},
   "outputs": [
    {
     "data": {
      "text/plain": [
       "1"
      ]
     },
     "execution_count": 11,
     "metadata": {},
     "output_type": "execute_result"
    }
   ],
   "source": [
    "m = 10%3\n",
    "m"
   ]
  },
  {
   "cell_type": "code",
   "execution_count": 12,
   "id": "be909896-3380-496f-8f83-904757f0c302",
   "metadata": {},
   "outputs": [
    {
     "data": {
      "text/plain": [
       "3"
      ]
     },
     "execution_count": 12,
     "metadata": {},
     "output_type": "execute_result"
    }
   ],
   "source": [
    "q = 10//3\n",
    "q"
   ]
  },
  {
   "cell_type": "code",
   "execution_count": 13,
   "id": "6210df2f-7c04-42be-88c3-0da61cd3da4f",
   "metadata": {},
   "outputs": [
    {
     "data": {
      "text/plain": [
       "16"
      ]
     },
     "execution_count": 13,
     "metadata": {},
     "output_type": "execute_result"
    }
   ],
   "source": [
    "p = 2**4\n",
    "p"
   ]
  },
  {
   "cell_type": "markdown",
   "id": "f00d405c-99a8-4470-bbe1-bd6e03c195e5",
   "metadata": {},
   "source": [
    "# Q4."
   ]
  },
  {
   "cell_type": "code",
   "execution_count": 15,
   "id": "a0219b79-65fc-4dba-8e7f-f35df7e6a7e4",
   "metadata": {},
   "outputs": [
    {
     "name": "stdout",
     "output_type": "stream",
     "text": [
      "<class 'int'>\n",
      "<class 'int'>\n",
      "<class 'int'>\n",
      "<class 'float'>\n",
      "<class 'str'>\n",
      "<class 'str'>\n",
      "<class 'str'>\n",
      "<class 'bool'>\n",
      "<class 'str'>\n",
      "<class 'bool'>\n"
     ]
    }
   ],
   "source": [
    "l = [1,2,3,0.5,'sudh','hello','data',True,'A',False]\n",
    "for i in l:\n",
    "    print(type(i))"
   ]
  },
  {
   "cell_type": "markdown",
   "id": "60a9b9ea-6ea8-4251-a7e1-b7d71f900052",
   "metadata": {},
   "source": [
    "# Q5."
   ]
  },
  {
   "cell_type": "code",
   "execution_count": 18,
   "id": "9accb563-90fc-4e26-84b9-2b2ecb51bd45",
   "metadata": {},
   "outputs": [
    {
     "name": "stdin",
     "output_type": "stream",
     "text": [
      "Enter the value of A:  12\n",
      "Enter the value of B:  2\n"
     ]
    },
    {
     "name": "stdout",
     "output_type": "stream",
     "text": [
      "0 is purely divisible by 2, and it can be divided 6 times.\n"
     ]
    }
   ],
   "source": [
    "A = int(input(\"Enter the value of A: \"))\n",
    "B = int(input(\"Enter the value of B: \"))\n",
    "count = 0\n",
    "\n",
    "while A >= B:\n",
    "    A = A - B\n",
    "    count += 1\n",
    "\n",
    "if A == 0:\n",
    "    print(f\"{A} is purely divisible by {B}, and it can be divided {count} times.\")\n",
    "else:\n",
    "    print(f\"{A} is not purely divisible by {B}. The quotient is {count} and the remainder is {A}.\")"
   ]
  },
  {
   "cell_type": "markdown",
   "id": "4da18d25-43e0-4ec2-a6fa-57a219c93d26",
   "metadata": {},
   "source": [
    "# Q6."
   ]
  },
  {
   "cell_type": "code",
   "execution_count": 20,
   "id": "f641c7a8-5035-4aa7-b3ae-22f52598bf03",
   "metadata": {},
   "outputs": [
    {
     "name": "stdout",
     "output_type": "stream",
     "text": [
      "1 is not divisible by 3\n",
      "2 is not divisible by 3\n",
      "3 is divisible by 3\n",
      "4 is not divisible by 3\n",
      "5 is not divisible by 3\n",
      "6 is divisible by 3\n",
      "7 is not divisible by 3\n",
      "8 is not divisible by 3\n",
      "9 is divisible by 3\n",
      "10 is not divisible by 3\n",
      "11 is not divisible by 3\n",
      "12 is divisible by 3\n",
      "13 is not divisible by 3\n",
      "14 is not divisible by 3\n",
      "15 is divisible by 3\n",
      "16 is not divisible by 3\n",
      "17 is not divisible by 3\n",
      "18 is divisible by 3\n",
      "19 is not divisible by 3\n",
      "20 is not divisible by 3\n",
      "21 is divisible by 3\n",
      "22 is not divisible by 3\n",
      "23 is not divisible by 3\n",
      "24 is divisible by 3\n",
      "25 is not divisible by 3\n"
     ]
    }
   ],
   "source": [
    "l = [1,2,3,4,5,6,7,8,9,10,11,12,13,14,15,16,17,18,19,20,21,22,23,24,25]\n",
    "\n",
    "for i in l:\n",
    "    if i%3 == 0:\n",
    "        print(f\"{i} is divisible by 3\")\n",
    "    else:\n",
    "        print(f\"{i} is not divisible by 3\")"
   ]
  },
  {
   "cell_type": "markdown",
   "id": "dcd8c35c-1789-4ea3-bbb6-d6ce393e8fa1",
   "metadata": {},
   "source": [
    "# Q7."
   ]
  },
  {
   "cell_type": "markdown",
   "id": "ef955c8f-cc38-4a3d-b490-0dfe851a97a3",
   "metadata": {},
   "source": [
    "Mutable Data Types : \n",
    "    \n",
    "    - can be modified or changed after creation\n",
    "    - Examples = lists , dictionaries and sets.\n",
    "    \n",
    "Immutable Data Types : \n",
    "    \n",
    "    - cannot be modified or changed after creation\n",
    "    - Examples = integers , floats , strings and tuples."
   ]
  },
  {
   "cell_type": "code",
   "execution_count": 21,
   "id": "fd02d861-7514-40a1-8695-0a1bae620f9c",
   "metadata": {},
   "outputs": [
    {
     "name": "stdout",
     "output_type": "stream",
     "text": [
      "Original list: [1, 2, 3]\n",
      "Modified list: [99, 2, 3]\n"
     ]
    }
   ],
   "source": [
    "mutable_list = [1, 2, 3]\n",
    "print(\"Original list:\", mutable_list)\n",
    "\n",
    "mutable_list[0] = 99\n",
    "print(\"Modified list:\", mutable_list)\n"
   ]
  },
  {
   "cell_type": "code",
   "execution_count": 22,
   "id": "4b59596a-4ca4-46f9-905f-5cb132b79f41",
   "metadata": {},
   "outputs": [
    {
     "name": "stdout",
     "output_type": "stream",
     "text": [
      "Original tuple: (1, 2, 3)\n"
     ]
    },
    {
     "ename": "TypeError",
     "evalue": "'tuple' object does not support item assignment",
     "output_type": "error",
     "traceback": [
      "\u001b[0;31m---------------------------------------------------------------------------\u001b[0m",
      "\u001b[0;31mTypeError\u001b[0m                                 Traceback (most recent call last)",
      "Cell \u001b[0;32mIn[22], line 4\u001b[0m\n\u001b[1;32m      1\u001b[0m immutable_tuple \u001b[38;5;241m=\u001b[39m (\u001b[38;5;241m1\u001b[39m, \u001b[38;5;241m2\u001b[39m, \u001b[38;5;241m3\u001b[39m)\n\u001b[1;32m      2\u001b[0m \u001b[38;5;28mprint\u001b[39m(\u001b[38;5;124m\"\u001b[39m\u001b[38;5;124mOriginal tuple:\u001b[39m\u001b[38;5;124m\"\u001b[39m, immutable_tuple)\n\u001b[0;32m----> 4\u001b[0m \u001b[43mimmutable_tuple\u001b[49m\u001b[43m[\u001b[49m\u001b[38;5;241;43m0\u001b[39;49m\u001b[43m]\u001b[49m \u001b[38;5;241m=\u001b[39m \u001b[38;5;241m99\u001b[39m \n",
      "\u001b[0;31mTypeError\u001b[0m: 'tuple' object does not support item assignment"
     ]
    }
   ],
   "source": [
    "immutable_tuple = (1, 2, 3)\n",
    "print(\"Original tuple:\", immutable_tuple)\n",
    "\n",
    "immutable_tuple[0] = 99 "
   ]
  },
  {
   "cell_type": "code",
   "execution_count": null,
   "id": "91d573e9-46ff-412f-a2c3-a1b7ae333188",
   "metadata": {},
   "outputs": [],
   "source": []
  }
 ],
 "metadata": {
  "kernelspec": {
   "display_name": "Python 3 (ipykernel)",
   "language": "python",
   "name": "python3"
  },
  "language_info": {
   "codemirror_mode": {
    "name": "ipython",
    "version": 3
   },
   "file_extension": ".py",
   "mimetype": "text/x-python",
   "name": "python",
   "nbconvert_exporter": "python",
   "pygments_lexer": "ipython3",
   "version": "3.10.8"
  }
 },
 "nbformat": 4,
 "nbformat_minor": 5
}
